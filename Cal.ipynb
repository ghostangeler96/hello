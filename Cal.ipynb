{
 "cells": [
  {
   "cell_type": "code",
   "execution_count": 588,
   "metadata": {},
   "outputs": [],
   "source": [
    "Mg = 27000 # Mass of ship\n",
    "lcg = 8.84 #gravity oordinate of ship\n",
    "B = 4.27 #Beam\n",
    "be_ta = 10 #Deadrise angle\n",
    "U = 20.58 #Ship speed\n",
    "Fnb = 3.18 # Froude number\n",
    "p = 1026 #mass density of salt water\n",
    "zmax_vt = 0.5556 # table 8.3\n",
    "Cf = 1.78e-3 #frictional force coefficient\n",
    "delta_cf = 3.7e-4\n",
    "AHR = 150e-6 #The average hull roughness\n",
    "Rn = 3.1e8 #Reynolds number\n",
    "v = 1.19e-6 #kinetic viscosity\n",
    "t = 0.2"
   ]
  },
  {
   "cell_type": "code",
   "execution_count": 589,
   "metadata": {},
   "outputs": [
    {
     "name": "stdout",
     "output_type": "stream",
     "text": [
      "The value of clb,cl0,lamdaw are =  0.0068155343057433775 , [0.08143438] , [3.42315515]\n",
      "[2.2126698]\n"
     ]
    }
   ],
   "source": [
    "import math\n",
    "import numpy as np\n",
    "from scipy.optimize import linearmixing,fsolve,show_options\n",
    "\n",
    "def lamda_w(a):\n",
    "    \n",
    "    return fsolve(lambda x : 0.75 - 1/(5.21*Fnb**2/x**2 + 2.39)-lcg/(x*B),a)\n",
    "\n",
    "def get_tau(a):\n",
    "    '''We use equations are shown below\n",
    "    (9.4) ,(9.5),(9.7)''' \n",
    "    global clb,cl0,lamdaw\n",
    "    lamdaw = lamda_w(a)\n",
    "    clb = Mg/(0.5*p*(U**2)*(B**2))\n",
    "    cl0 = fsolve(lambda cl0 : 0.067 - cl0 + 0.0065*be_ta*cl0**0.60,a)\n",
    "    print('The value of clb,cl0,lamdaw are = ', clb , ',' , cl0 , ',', lamdaw)\n",
    "    return pow((cl0/(0.012*(lamdaw**0.5)+0.0055*(lamdaw**2.5)/(Fnb**2))),10/11)\n",
    "\n",
    "tau_value = get_tau(1)\n",
    "print(tau_value)\n",
    "xs = (B*be_ta)/(np.pi*tau_value) # equation (9.8)\n",
    "\n",
    "# xs = 2*B*lamdaw\n",
    "# The consequence is that the draft of the keel at transom is determinded as following equations :\n",
    "# D = (2*lamdaw*B - (lamdaw*B - 0.5*xs))*math.sin(tau_value)\n",
    "\n",
    "Lc = lamdaw*B - 0.5*xs\n",
    "Lk = 2*lamdaw*B - Lc\n",
    "D = Lk*np.sin(np.radians(tau_value))\n",
    "\n",
    "\n",
    "# The wetted area is divided into two parts S1 and S2 those value are calculated following eqs below :\n",
    "# S1 = (np.tan(np.radians(be_ta))/np.cos(np.radians(be_ta)))*(B**2/(4*(1+zmax_vt)*tau_value))\n",
    "S1 = (np.tan(np.radians(be_ta))*B**2)/(np.cos(np.radians(be_ta))*4*(1+zmax_vt)*np.radians(tau_value))\n",
    "# S1 = (tau_value/np.sin(np.radians(be_ta)))*(1+zmax_vt)*xs**2\n",
    "S2 = B*Lc/np.cos(np.radians(be_ta))\n",
    "S = S1 + S2 \n",
    "\n",
    "# Now we get the Viscous Resistance Rv =\n",
    "Rv = 0.5*p*Cf*S*U**2 + 0.5*p*clb*(B*U)**2*np.radians(tau_value)\n",
    "# Rt = 0.5*p*U**2*lamdaw*B**2*(Cf-delta_cf)/(np.cos(np.radians(tau_value))*np.cos(np.radians(be_ta))) + Mg*t*9.81*np.radians(tau_value)\n",
    "Rt = 29603/(1-t)\n"
   ]
  },
  {
   "cell_type": "code",
   "execution_count": 613,
   "metadata": {
    "scrolled": true
   },
   "outputs": [
    {
     "name": "stdout",
     "output_type": "stream",
     "text": [
      "xs,Lc,Lk,D,S1,S2,S =  [6.14272954] [11.54550771] [17.68823725] [0.68292117] [13.58536029] [50.05983935] [63.64519964]\n",
      "Resistance is shown below : \n",
      "Rv and Rt (with propeller) =  [25657.35154825] , 37003.75\n"
     ]
    }
   ],
   "source": [
    "print('xs,Lc,Lk,D,S1,S2,S = ' ,xs,Lc,Lk,D,S1,S2,S)\n",
    "print('Resistance is shown below : ')\n",
    "print('Rv and Rt (with propeller) = '  , Rv ,',', Rt )\n"
   ]
  },
  {
   "cell_type": "markdown",
   "metadata": {},
   "source": [
    "<!-- ![title](images/Planing-craft-configuration-and-coordinate-systems.png) -->\n",
    "![title](images/Planing-craft-configuration-and-coordinate-systems.png)![title](images/aaa.png)\n",
    "![title](https://github.com/ghostangeler96/hello/blob/master/Planing-craft-configuration-and-coordinate-systems.png?raw=true)\n",
    "![title](https://github.com/ghostangeler96/hello/blob/master/aaa.png?raw=true)\n"
   ]
  },
  {
   "cell_type": "code",
   "execution_count": 599,
   "metadata": {},
   "outputs": [
    {
     "data": {
      "text/plain": [
       "array([0.08143438])"
      ]
     },
     "execution_count": 599,
     "metadata": {},
     "output_type": "execute_result"
    }
   ],
   "source": [
    "fsolve(lambda cl0 : 0.067 - cl0 + 0.0065*be_ta*cl0**0.60,1)"
   ]
  },
  {
   "cell_type": "code",
   "execution_count": 600,
   "metadata": {},
   "outputs": [
    {
     "name": "stdout",
     "output_type": "stream",
     "text": [
      "[-0.0068, 0.9281999999999999, 1.8946784231768241, 2.867543167079435, 3.843869213850385, 4.822475692713755, 5.802739856647071, 6.784283769768457, 7.766856853543008, 8.750282466774975]\n"
     ]
    },
    {
     "data": {
      "text/plain": [
       "list"
      ]
     },
     "execution_count": 600,
     "metadata": {},
     "output_type": "execute_result"
    }
   ],
   "source": [
    "import matplotlib.pyplot as plt\n",
    "import numpy as np\n",
    "\n",
    "def f(cl0):\n",
    "    return 0.0068 - cl0 + 0.0065*be_ta*cl0**0.6\n",
    "testing = list(-f(np.arange(10)))\n",
    "print(testing)\n",
    "\n",
    "type(testing)\n",
    "    \n",
    "# plt.plot(np.linspace(-10,10),f(np.linspace(0,10)).append(-f(np.linspace(0,10))))"
   ]
  },
  {
   "cell_type": "code",
   "execution_count": 593,
   "metadata": {},
   "outputs": [
    {
     "data": {
      "text/plain": [
       "<function matplotlib.pyplot.show(*args, **kw)>"
      ]
     },
     "execution_count": 593,
     "metadata": {},
     "output_type": "execute_result"
    },
    {
     "data": {
      "image/png": "[encoded data removed]",
      "text/plain": [
       "<Figure size 432x288 with 1 Axes>"
      ]
     },
     "metadata": {
      "needs_background": "light"
     },
     "output_type": "display_data"
    }
   ],
   "source": [
    "f = lambda x : x**2 +1\n",
    "plt.plot(np.linspace(-10,10),f(np.linspace(-10,10)))\n",
    "plt.show"
   ]
  },
  {
   "cell_type": "code",
   "execution_count": 594,
   "metadata": {},
   "outputs": [
    {
     "name": "stdout",
     "output_type": "stream",
     "text": [
      "((-0.4683821777073581+1.4415321174362306j), (-0.4683821777073581+1.4415321174362306j))\n",
      "(1.515716566510398, 1.515716566510398)\n"
     ]
    },
    {
     "data": {
      "text/plain": [
       "tuple"
      ]
     },
     "execution_count": 594,
     "metadata": {},
     "output_type": "execute_result"
    }
   ],
   "source": [
    "def f(x):\n",
    "    return pow(x,0.6), x**0.6\n",
    "print(f(-2))\n",
    "print(f(2))\n",
    "type(f(-2))"
   ]
  },
  {
   "cell_type": "code",
   "execution_count": 595,
   "metadata": {},
   "outputs": [
    {
     "data": {
      "text/plain": [
       "0.00178"
      ]
     },
     "execution_count": 595,
     "metadata": {},
     "output_type": "execute_result"
    }
   ],
   "source": [
    "1.78e-3"
   ]
  }
 ],
 "metadata": {
  "kernelspec": {
   "display_name": "Python 3",
   "language": "python",
   "name": "python3"
  },
  "language_info": {
   "codemirror_mode": {
    "name": "ipython",
    "version": 3
   },
   "file_extension": ".py",
   "mimetype": "text/x-python",
   "name": "python",
   "nbconvert_exporter": "python",
   "pygments_lexer": "ipython3",
   "version": "3.7.6"
  }
 },
 "nbformat": 4,
 "nbformat_minor": 4
}
